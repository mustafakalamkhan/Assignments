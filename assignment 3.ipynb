{
 "cells": [
  {
   "cell_type": "markdown",
   "id": "c1d9865c",
   "metadata": {},
   "source": [
    "    Ques 1 - Why are functions advantageous to have in your programs?\n",
    "Ans 1 - Functions are advantageous to have in your programs for several reasons:\n",
    "\n",
    "Readability: Functions make a program more readable, especially large programs. Breaking the code into smaller functions keeps the program structured, understandable, and reusable.\n",
    "Reusability: Functions can be reused countless times after they are defined.\n",
    "Reduced Program Size: Functions can help reduce the size of a program by being called and used at different places in the program.\n",
    "Code Modularity: Functions help in code modularity, which means that the entire code is divided into separate blocks, each self-contained and performing a different task. This makes each block implementation and debugging much more accessible.\n",
    "Efficiency in Top-Down Programming: In top-down structured programming, dividing a program into functions is more efficient and easy to understand.\n",
    "Ease of Use: If you just use the function in your program, you don’t have to worry about how it works inside. For example, the printf() function."
   ]
  },
  {
   "cell_type": "markdown",
   "id": "51b1d9cc",
   "metadata": {},
   "source": [
    "    Ques 2 - When does the code in a function run: when its specified or when its called?\n",
    "Ans 2 - Functions are like recipes in a cookbook. The recipe contains instructions on how to cook a particular dish, but the cooking process doesn't start until you decide to follow the recipe and start cooking. Similarly, the code inside a function is not executed until the function is called.\n",
    "\n",
    "This is beneficial because it allows you to define a function once and then use it multiple times throughout your code without having to rewrite the same code over and over again. It also means that the code inside a function doesn't take up any computational resources until it's actually needed."
   ]
  },
  {
   "cell_type": "markdown",
   "id": "fc6ffe9f",
   "metadata": {},
   "source": [
    "Ques 3 - What statement creates a function?\n",
    "Ans 3 - A keyword that indicates that a function is being defined (e.g., function, def, fun, etc.)\n",
    "The name of the function\n",
    "A list of parameters that the function takes as input, enclosed in parentheses\n",
    "The body of the function, which contains the code that will be executed when the function is called"
   ]
  },
  {
   "cell_type": "code",
   "execution_count": 3,
   "id": "7783b3b8",
   "metadata": {},
   "outputs": [],
   "source": [
    "def greet(name):\n",
    "    print(\"Hello, \" + name + \"!\")"
   ]
  },
  {
   "cell_type": "markdown",
   "id": "ac89907c",
   "metadata": {},
   "source": [
    "In this example, the keyword def indicates that a function is being defined, greet is the name of the function, name is the parameter that the function takes as input, and the body of the function is a single line of code that prints a greeting message.\n",
    "\n",
    "Once the function is defined, it can be called by using its name followed by a set of parentheses containing any required arguments. For example:"
   ]
  },
  {
   "cell_type": "code",
   "execution_count": 4,
   "id": "3acf3ae2",
   "metadata": {},
   "outputs": [
    {
     "name": "stdout",
     "output_type": "stream",
     "text": [
      "Hello, Alice!\n"
     ]
    }
   ],
   "source": [
    "greet(\"Alice\")\n",
    "#This would call the greet function with the argument \"Alice\", causing it to print the message \"Hello, Alice!\"."
   ]
  },
  {
   "cell_type": "markdown",
   "id": "992825f7",
   "metadata": {},
   "source": [
    "    Ques 4 - What is the difference between a function and a function call?\n",
    "Ans 4 - In other words, a function defines a set of instructions that can be executed on demand, while a function call actually executes those instructions with the specified inputs.\n",
    "\n",
    "Here's an example in Python:"
   ]
  },
  {
   "cell_type": "code",
   "execution_count": 5,
   "id": "0c69e1bd",
   "metadata": {},
   "outputs": [
    {
     "name": "stdout",
     "output_type": "stream",
     "text": [
      "Hello, Alice!\n",
      "Hello, Bob!\n"
     ]
    }
   ],
   "source": [
    "def greet(name):\n",
    "    print(\"Hello, \" + name + \"!\")\n",
    "\n",
    "# This is a function definition\n",
    "# It defines the instructions for greeting someone\n",
    "\n",
    "greet(\"Alice\")\n",
    "greet(\"Bob\")\n",
    "\n",
    "# These are function calls\n",
    "# They execute the greet function with different inputs"
   ]
  },
  {
   "cell_type": "markdown",
   "id": "e79e02b6",
   "metadata": {},
   "source": [
    "In this example, the greet function is defined once, but it is called twice with different inputs. The first time it is called with the argument \"Alice\", and the second time it is called with the argument \"Bob\". Each time the function is called, it executes the instructions in its body with the specified input, resulting in the output \"Hello, Alice!\" and \"Hello, Bob!\", respectively.\n",
    "\n",
    "So, to summarize, a function is a block of code that can be executed multiple times with different inputs, while a function call is the act of executing that block of code with a specific set of inputs."
   ]
  },
  {
   "cell_type": "markdown",
   "id": "9f5a6b4d",
   "metadata": {},
   "source": [
    "    Ques 5 - How many global scopes are there in a Python program? How many local scopes?\n",
    "Ans 5 - On the other hand, there can be multiple local scopes in a Python program, one for each function or block of code that defines its own local variables and parameters.\n",
    "\n",
    "When a function is called, a new local scope is created for that function, and any local variables or parameters defined within that function are created in this local scope. This local scope is destroyed when the function returns, and any local variables or parameters defined within it are no longer accessible.\n",
    "\n",
    "Here's an example in Python:"
   ]
  },
  {
   "cell_type": "code",
   "execution_count": null,
   "id": "814e3bf3",
   "metadata": {},
   "outputs": [],
   "source": [
    "# Global scope\n",
    "x = 10\n",
    "\n",
    "def func1():\n",
    "    # Local scope for func1\n",
    "    y = 20\n",
    "    print(x)\n",
    "    print(y)\n",
    "\n",
    "def func2():\n",
    "    # Local scope for func2\n",
    "    z = 30\n",
    "    print(x)\n",
    "    print(z)\n",
    "\n",
    "func1()\n",
    "func2()\n",
    "\n",
    "print(x)\n",
    "print(y)  # NameError: name 'y' is not defined\n",
    "print(z)  # NameError: name 'z' is not defined"
   ]
  },
  {
   "cell_type": "markdown",
   "id": "a8e4c145",
   "metadata": {},
   "source": [
    "In this example, there is one global scope where the variable x is defined. There are also two local scopes, one for each function func1 and func2. The local scope for func1 contains the variable y, and the local scope for func2 contains the variable z.\n",
    "\n",
    "When func1 is called, it prints the value of x from the global scope and the value of y from its own local scope. Similarly, when func2 is called, it prints the value of x from the global scope and the value of z from its own local scope.\n",
    "\n",
    "After both functions have returned, the local scopes for func1 and func2 are destroyed, and any local variables or parameters defined within them are no longer accessible. Therefore, when we try to access y and z outside of their respective functions, we get a NameError.\n",
    "\n",
    "So, to summarize, there is only one global scope in a Python program, but there can be multiple local scopes, one for each function or block of code that defines its own local variables and parameters."
   ]
  },
  {
   "cell_type": "markdown",
   "id": "041f1565",
   "metadata": {},
   "source": [
    "Ques 6 -What happens to variables in a local scope when the function call returns?\n",
    "Ans 6 -This is because the local scope is created when the function is called, and it is destroyed when the function returns. During the execution of the function, the local variables and parameters are stored in memory, but once the function returns, they are no longer needed and are removed from memory.\n",
    "\n",
    "Here's an example in Python:"
   ]
  },
  {
   "cell_type": "code",
   "execution_count": 10,
   "id": "b8422b95",
   "metadata": {},
   "outputs": [
    {
     "name": "stdout",
     "output_type": "stream",
     "text": [
      "10 20\n"
     ]
    },
    {
     "ename": "NameError",
     "evalue": "name 'y' is not defined",
     "output_type": "error",
     "traceback": [
      "\u001b[1;31m---------------------------------------------------------------------------\u001b[0m",
      "\u001b[1;31mNameError\u001b[0m                                 Traceback (most recent call last)",
      "Cell \u001b[1;32mIn[10], line 7\u001b[0m\n\u001b[0;32m      4\u001b[0m     \u001b[38;5;28mprint\u001b[39m(x, y)\n\u001b[0;32m      6\u001b[0m func()\n\u001b[1;32m----> 7\u001b[0m \u001b[38;5;28mprint\u001b[39m(x, \u001b[43my\u001b[49m)\n",
      "\u001b[1;31mNameError\u001b[0m: name 'y' is not defined"
     ]
    }
   ],
   "source": [
    "def func():\n",
    "    x = 10\n",
    "    y = 20\n",
    "    print(x, y)\n",
    "\n",
    "func()\n",
    "print(x, y)  # NameError: name 'x' is not defined"
   ]
  },
  {
   "cell_type": "markdown",
   "id": "81b9b2d2",
   "metadata": {},
   "source": [
    "In this example, the function func defines two local variables x and y, and prints their values. When the function returns, the local variables x and y are destroyed and no longer accessible. Therefore, when we try to access x and y outside of the function, we get a NameError.\n",
    "\n",
    "It's important to note that if a local variable or parameter is defined with the same name as a global variable, the local variable will take precedence over the global variable within the local scope. However, once the function returns, the global variable will still be accessible.\n",
    "\n",
    "Here's an example:"
   ]
  },
  {
   "cell_type": "code",
   "execution_count": 11,
   "id": "f2d634c1",
   "metadata": {},
   "outputs": [
    {
     "name": "stdout",
     "output_type": "stream",
     "text": [
      "20\n",
      "10\n"
     ]
    }
   ],
   "source": [
    "x = 10\n",
    "\n",
    "def func():\n",
    "    x = 20\n",
    "    print(x)\n",
    "\n",
    "func()\n",
    "print(x)  # 10"
   ]
  },
  {
   "cell_type": "markdown",
   "id": "986fcb79",
   "metadata": {},
   "source": [
    "In this example, the global variable x is defined with a value of 10. The function func defines a local variable x with a value of 20, which takes precedence over the global variable within the local scope. When the function returns, the local variable x is destroyed, and the global variable x is still accessible with its original value of 10."
   ]
  },
  {
   "cell_type": "markdown",
   "id": "1418424e",
   "metadata": {},
   "source": [
    "    Ques 7- What is the concept of a return value? Is it possible to have a return value in an expression?\n",
    "Ans 7-When a function is called, it can optionally return a value using the return statement. The return statement immediately ends the execution of the function and returns the specified value to the caller.\n",
    "Here's an example in Python:"
   ]
  },
  {
   "cell_type": "code",
   "execution_count": 12,
   "id": "0ed94ee4",
   "metadata": {},
   "outputs": [
    {
     "name": "stdout",
     "output_type": "stream",
     "text": [
      "15\n"
     ]
    }
   ],
   "source": [
    "def add_numbers(x, y):\n",
    "    result = x + y\n",
    "    return result\n",
    "\n",
    "sum = add_numbers(5, 10)\n",
    "print(sum)  # 15"
   ]
  },
  {
   "cell_type": "markdown",
   "id": "c1b6be9e",
   "metadata": {},
   "source": [
    "In this example, the function add_numbers takes two arguments x and y, adds them together, and returns the result using the return statement. The caller then assigns the return value to the variable sum and prints it.\n",
    "\n",
    "Regarding your second question, it is not possible to have a return value in an expression directly. An expression is a piece of code that produces a value, but it does not have a return statement. However, a function call can be part of an expression, and if the function returns a value, that value can be used in the expression.\n",
    "\n",
    "Here's an example in Python:"
   ]
  },
  {
   "cell_type": "code",
   "execution_count": 13,
   "id": "3de9977e",
   "metadata": {},
   "outputs": [
    {
     "name": "stdout",
     "output_type": "stream",
     "text": [
      "125\n"
     ]
    }
   ],
   "source": [
    "def square(x):\n",
    "    return x ** 2\n",
    "\n",
    "num = 5\n",
    "result = num * square(num)\n",
    "print(result)  # 25 * 25 = 625"
   ]
  },
  {
   "cell_type": "markdown",
   "id": "eb3d3beb",
   "metadata": {},
   "source": [
    "In this example, the function square takes an argument x, returns its square using the return statement, and is called as part of the expression num * square(num). The result of the expression is then assigned to the variable result and printed.\n",
    "\n",
    "So, while it is not possible to have a return value in an expression directly, a function call with a return value can be used as part of an expression."
   ]
  },
  {
   "cell_type": "markdown",
   "id": "63acb62f",
   "metadata": {},
   "source": [
    "    Ques 8 -If a function does not have a return statement, what is the return value of a call to that function?\n",
    "Ans 8 -When a function is called, it executes the code inside its body and then returns control to the caller. If the function does not explicitly return a value using the return statement, then it implicitly returns None (or a similar value in other languages).\n",
    "\n",
    "Here's an example in Python:"
   ]
  },
  {
   "cell_type": "code",
   "execution_count": 14,
   "id": "78958ce9",
   "metadata": {},
   "outputs": [
    {
     "name": "stdout",
     "output_type": "stream",
     "text": [
      "Hello!\n",
      "None\n"
     ]
    }
   ],
   "source": [
    "def print_hello():\n",
    "    print(\"Hello!\")\n",
    "\n",
    "value = print_hello()\n",
    "print(value)  # None"
   ]
  },
  {
   "cell_type": "markdown",
   "id": "6a2c19ec",
   "metadata": {},
   "source": [
    "In this example, the function print_hello does not have a return statement, so it implicitly returns None. When the function is called, it prints the string \"Hello!\", and then returns None. The caller then assigns the return value to the variable value and prints it, which outputs None.\n",
    "\n",
    "It's important to note that even if a function does not explicitly return a value, it can still have side effects, such as modifying variables or performing I/O operations. In such cases, the function may still be useful, even if it does not return a value."
   ]
  },
  {
   "cell_type": "markdown",
   "id": "163a846a",
   "metadata": {},
   "source": [
    "    Ques 9 -How do you make a function variable refer to the global variable?\n",
    "Ans 9 -In Python, you can use the global keyword to declare that a variable in a function should refer to the global variable with the same name. \n",
    "Here's an example:"
   ]
  },
  {
   "cell_type": "code",
   "execution_count": 15,
   "id": "b85fca36",
   "metadata": {},
   "outputs": [
    {
     "name": "stdout",
     "output_type": "stream",
     "text": [
      "11\n"
     ]
    }
   ],
   "source": [
    "x = 10\n",
    "\n",
    "def add_to_x():\n",
    "    global x\n",
    "    x += 1\n",
    "\n",
    "add_to_x()\n",
    "print(x)  # 11"
   ]
  },
  {
   "cell_type": "markdown",
   "id": "867fa047",
   "metadata": {},
   "source": [
    "In this example, the variable x is declared as a global inside the function add_to_x using the global keyword. This means that when the function modifies x using the += operator, it modifies the global variable x, not a local variable with the same name.\n",
    "\n",
    "In JavaScript, you can use the global statement to declare that a variable in a function should refer to the global variable with the same name. Here's an example"
   ]
  },
  {
   "cell_type": "code",
   "execution_count": null,
   "id": "da1b0772",
   "metadata": {},
   "outputs": [],
   "source": [
    "let x = 10;\n",
    "\n",
    "function addToX() \n",
    "{\n",
    "  globalThis.x += 1;\n",
    "}\n",
    "\n",
    "addToX();\n",
    "console.log(x);  // 11"
   ]
  },
  {
   "cell_type": "markdown",
   "id": "5ad6db93",
   "metadata": {},
   "source": [
    "In this example, the globalThis object is used to access the global variable x inside the function addToX. This ensures that the function modifies the global variable x, not a local variable with the same name.\n",
    "\n",
    "It's important to note that modifying global variables from within functions can make your code harder to understand and debug, so it's generally recommended to avoid using global variables whenever possible. Instead, you can pass variables as arguments to functions and return values from functions to avoid modifying global variables."
   ]
  },
  {
   "cell_type": "markdown",
   "id": "a6b2fb0f",
   "metadata": {},
   "source": [
    "    Ques 10 - What is the data type of None?\n",
    "Ans 10 - Here's an example of how you can check the type of None in Python:"
   ]
  },
  {
   "cell_type": "code",
   "execution_count": 20,
   "id": "377fc0ba",
   "metadata": {},
   "outputs": [
    {
     "name": "stdout",
     "output_type": "stream",
     "text": [
      "<class 'NoneType'>\n"
     ]
    }
   ],
   "source": [
    "print(type(None))  # <class 'NoneType'>"
   ]
  },
  {
   "cell_type": "markdown",
   "id": "10c7afc5",
   "metadata": {},
   "source": [
    "None is often used as a return value for functions that do not explicitly return a value, or as a placeholder for missing or undefined values. It is also used as a sentinel value in some cases, such as when breaking out of a loop or when indicating that a value has not been set.\n",
    "\n",
    "It's important to note that None is not the same as an empty string, an empty list, or any other empty data structure. While these data structures have a specific type and can be used in various ways, None is a unique value that represents the absence of a value."
   ]
  },
  {
   "cell_type": "markdown",
   "id": "8737a0bf",
   "metadata": {},
   "source": [
    "    Ques 11 -What does the sentence import areallyourpetsnamederic do?\n",
    "Ans 11 -It's possible that areallyourpetsnamederic is a custom module that has been defined in the current environment, in which case the import statement would import that module. However, without more context, it's impossible to say for sure what the import statement would do.\n",
    "\n",
    "It's also possible that areallyourpetsnamederic is a typo or a joke, and that the import statement is not intended to be taken seriously.\n",
    "\n",
    "In general, the import statement is used to load a module into the current Python environment, so that its functions, classes, and variables can be used in the current script or interactive session. The syntax of the import statement is:"
   ]
  },
  {
   "cell_type": "code",
   "execution_count": 22,
   "id": "6d232601",
   "metadata": {},
   "outputs": [
    {
     "name": "stdout",
     "output_type": "stream",
     "text": [
      "2.0\n"
     ]
    }
   ],
   "source": [
    "import math\n",
    "result = math.sqrt(4)\n",
    "print(result)  # 2.0"
   ]
  },
  {
   "cell_type": "markdown",
   "id": "94e3dc06",
   "metadata": {},
   "source": [
    "    Ques 12 - If you had a bacon() feature in a spam module, what would you call it after importing spam?\n",
    "Ans 12 -Here's an example of how you could import the spam module and use the bacon() function:"
   ]
  },
  {
   "cell_type": "code",
   "execution_count": 23,
   "id": "5894940a",
   "metadata": {},
   "outputs": [
    {
     "ename": "ModuleNotFoundError",
     "evalue": "No module named 'spam'",
     "output_type": "error",
     "traceback": [
      "\u001b[1;31m---------------------------------------------------------------------------\u001b[0m",
      "\u001b[1;31mModuleNotFoundError\u001b[0m                       Traceback (most recent call last)",
      "Cell \u001b[1;32mIn[23], line 1\u001b[0m\n\u001b[1;32m----> 1\u001b[0m \u001b[38;5;28;01mimport\u001b[39;00m \u001b[38;5;21;01mspam\u001b[39;00m\n\u001b[0;32m      3\u001b[0m \u001b[38;5;66;03m# Call the bacon() function from the spam module\u001b[39;00m\n\u001b[0;32m      4\u001b[0m result \u001b[38;5;241m=\u001b[39m spam\u001b[38;5;241m.\u001b[39mbacon()\n",
      "\u001b[1;31mModuleNotFoundError\u001b[0m: No module named 'spam'"
     ]
    }
   ],
   "source": [
    "import spam\n",
    "\n",
    "# Call the bacon() function from the spam module\n",
    "result = spam.bacon()\n",
    "\n",
    "# Print the result\n",
    "print(result)"
   ]
  },
  {
   "cell_type": "markdown",
   "id": "9a673e3d",
   "metadata": {},
   "source": [
    "In this example, the spam module is imported using the import statement. The bacon() function is then called using the dot notation (spam.bacon()), and the result is printed to the console.\n",
    "\n",
    "By using the dot notation to call the bacon() function, we are explicitly indicating that the function belongs to the spam module. This is important because it allows us to use functions with the same name from different modules without causing conflicts.\n",
    "\n",
    "Note that there are other ways to import modules and functions in Python, such as using the from ... import ... statement or the import ... as ... statement. However, the import statement followed by the module name is the most common and straightforward way to import a module."
   ]
  },
  {
   "cell_type": "markdown",
   "id": "5eebea6b",
   "metadata": {},
   "source": [
    "    Ques 13-What can you do to save a programme from crashing if it encounters an error?\n",
    "Ans 13- To save a programme from crashing if it encounters an error\n",
    "1-Use error handling techniques: You can use try-except blocks to catch and handle errors gracefully. This allows your program to continue running even if an error occurs, rather than crashing.\n",
    "2-Validate user input: Make sure that user input is in the correct format and meets any necessary conditions before using it in your program. This can help prevent errors caused by invalid input.\n",
    "3-Use type checking: Make sure that variables are of the correct type before using them in operations that require a specific type. This can help prevent errors caused by incorrect variable types.\n",
    "4-Use assertions: Assertions can be used to check that certain conditions are met before proceeding with a section of code. If an assertion fails, it can help you identify where the problem is occurring.\n",
    "5-Test your code thoroughly: Make sure to test your code thoroughly before deploying it. This can help you catch and fix errors before they cause problems in production.\n",
    "6-Use logging: Logging can help you keep track of what your program is doing and can help you diagnose errors if they occur.\n",
    "7-Use version control: Version control can help you keep track of changes to your code and can make it easier to roll back changes if something goes wrong.\n",
    "8-Follow best practices: Make sure to follow best practices for coding, such as using descriptive variable names, commenting your code, and keeping your code organized and modular. This can help make your code more robust and less prone to errors.\n",
    "9-By using these techniques, you can help prevent your program from crashing if it encounters an error, and make it more robust and reliable.\n",
    "\n"
   ]
  },
  {
   "cell_type": "markdown",
   "id": "a9aaf3d9",
   "metadata": {},
   "source": [
    "    Ques 14- What is the purpose of the try clause? What is the purpose of the except clause?\n",
    "Ans 14-The except clause is used to specify the type of exception that should be caught and the code that should be executed when that exception is raised. The except block should follow immediately after the try block, and should contain the code that should be executed when the exception is caught.\n",
    "\n",
    "Here's an example of how the try and except clauses are used in Python:\n",
    "\n",
    "python\n",
    "Edit\n",
    "Run\n",
    "Full Screen\n"
   ]
  },
  {
   "cell_type": "code",
   "execution_count": 24,
   "id": "798b85c6",
   "metadata": {},
   "outputs": [
    {
     "name": "stdout",
     "output_type": "stream",
     "text": [
      "Cannot divide by zero\n"
     ]
    }
   ],
   "source": [
    "try:\n",
    "    # Code that might throw an exception\n",
    "    result = 1 / 0\n",
    "except ZeroDivisionError:\n",
    "    # Code that is executed when a ZeroDivisionError is raised\n",
    "    print(\"Cannot divide by zero\")"
   ]
  },
  {
   "cell_type": "markdown",
   "id": "3eca839a",
   "metadata": {},
   "source": [
    "In this example, the try block contains the code that might throw an exception (result = 1 / 0), and the except block contains the code that is executed when a ZeroDivisionError is raised (print(\"Cannot divide by zero\")).\n",
    "\n",
    "The try and except clauses can be used together to catch and handle exceptions in a graceful way, allowing your program to continue running even if an error occurs. By using these clauses, you can make your code more robust and less prone to crashing."
   ]
  }
 ],
 "metadata": {
  "kernelspec": {
   "display_name": "Python 3 (ipykernel)",
   "language": "python",
   "name": "python3"
  },
  "language_info": {
   "codemirror_mode": {
    "name": "ipython",
    "version": 3
   },
   "file_extension": ".py",
   "mimetype": "text/x-python",
   "name": "python",
   "nbconvert_exporter": "python",
   "pygments_lexer": "ipython3",
   "version": "3.10.9"
  }
 },
 "nbformat": 4,
 "nbformat_minor": 5
}

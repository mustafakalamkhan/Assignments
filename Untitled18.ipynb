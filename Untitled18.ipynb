{
 "cells": [
  {
   "cell_type": "code",
   "execution_count": 6,
   "id": "ab994be7",
   "metadata": {},
   "outputs": [],
   "source": [
    "#1. In the below elements which of them are values or an expression? eg:- values can be\n",
    "#integer or string and expressions will be mathematical operators.\n",
    "\n",
    "#ANS-*- Expression\n",
    "#‘Hello’ - values\n",
    "#-87.8 - values\n",
    "#- - expression\n",
    "#/ - expression\n",
    "#+ - expression\n",
    "#6 – values\n"
   ]
  },
  {
   "cell_type": "code",
   "execution_count": 7,
   "id": "14ec0818",
   "metadata": {},
   "outputs": [],
   "source": [
    "#2. What is the difference between string and variable?\n",
    "\n",
    "#ANS- A Variable is a store of information, and a String is a type of information you would store in a Variable. A String is usually words, enclosed with\n",
    "#Eg\n",
    "#String x =\"Welcome to SoloLearn\"\n",
    "#X is the Variable, and we declared it as a String, use the single = to assign the text to it.\n",
    "\n"
   ]
  },
  {
   "cell_type": "code",
   "execution_count": 8,
   "id": "14c19531",
   "metadata": {},
   "outputs": [],
   "source": [
    "#3. Describe three different data types.\n",
    "\n",
    "#ANS- Three different data types are\n",
    "#1-\tIntegers- Integers are whole numbers, without a fractional component. They can be positive or negative.\n",
    "#2-\tFloat- Float represents real numbers & are written within a decimal point.\n",
    "#3-\tStrings-Strings in python are sequences of  character data. They are created by enclosing character in quotes.\n"
   ]
  },
  {
   "cell_type": "code",
   "execution_count": 9,
   "id": "fcdbf1c7",
   "metadata": {},
   "outputs": [],
   "source": [
    "#4. What is an expression made up of? What do all expressions do?\n",
    "\n",
    "#ANS- Expressions are made up of two things variables and operators . Variables have some values inside it which operators work upon\n",
    "#For e.g- a+b is an expression\n"
   ]
  },
  {
   "cell_type": "code",
   "execution_count": 10,
   "id": "c4ab7003",
   "metadata": {},
   "outputs": [],
   "source": [
    "#5. This assignment statements, like spam = 10. What is the difference between an\n",
    "#expression and a statement?\n",
    "\n",
    "#ANS- An expression is a combination of variables, constants, and operators that evaluates to a single value.\n",
    "#It can be as simple as a single variable or a complex combination involving mathematical or logical operations.\n",
    "#On the other hand, a statement is a complete unit of code that performs an action or a sequence of actions.\n",
    "#Statements are generally used to control the flow of execution, manipulate data, or perform I/O operations.\n",
    "#Unlike expressions, statements do not produce a value.\n",
    "#So, in this case, spam = 10 is a statement that uses the expression 10 to assign a value to the variable spam.\t\t\n"
   ]
  },
  {
   "cell_type": "code",
   "execution_count": 11,
   "id": "e294512a",
   "metadata": {},
   "outputs": [
    {
     "data": {
      "text/plain": [
       "23"
      ]
     },
     "execution_count": 11,
     "metadata": {},
     "output_type": "execute_result"
    }
   ],
   "source": [
    "#6. After running the following code, what does the variable bacon contain?\n",
    "bacon = 22\n",
    "bacon + 1\n",
    "#ANS- 23\n"
   ]
  },
  {
   "cell_type": "code",
   "execution_count": 12,
   "id": "8f4bff9a",
   "metadata": {},
   "outputs": [
    {
     "data": {
      "text/plain": [
       "'spamspamspam'"
      ]
     },
     "execution_count": 12,
     "metadata": {},
     "output_type": "execute_result"
    }
   ],
   "source": [
    "#7. What should the values of the following two terms be?\n",
    "'spam + spamspam'\n",
    "'spam' * 3\n",
    "#ANS- 'spamspamspam'\n"
   ]
  },
  {
   "cell_type": "code",
   "execution_count": 13,
   "id": "d6b65fc4",
   "metadata": {},
   "outputs": [],
   "source": [
    "#8. Why is eggs a valid variable name while 100 is invalid?\n",
    "\n",
    "#ANS-Because variable cant start with number\n"
   ]
  },
  {
   "cell_type": "code",
   "execution_count": 14,
   "id": "82d0723c",
   "metadata": {},
   "outputs": [],
   "source": [
    "#9. What three functions can be used to get the integer, floating-point number, or string\n",
    "#version of a value?\n",
    "\n",
    "#ANS- Three functions that can be used to get the integer, floating-point number, or string\n",
    "#version of a value int(), float(), and str() \n"
   ]
  },
  {
   "cell_type": "code",
   "execution_count": 16,
   "id": "2fb57d7b",
   "metadata": {},
   "outputs": [
    {
     "name": "stdout",
     "output_type": "stream",
     "text": [
      "I have eaten  99  burritos\n"
     ]
    }
   ],
   "source": [
    "#10. Why does this expression cause an error? How can you fix it?'I have eaten ' + 99 + ' burritos.'\n",
    "\n",
    "#ANS-  \t'I have eaten ' + 99 + ' burritos.'\n",
    "#This expression causes and error because in this line 'I have eaten' and 'burritos' are strings,\n",
    "#while 99 is treated as integer. In order to fix the error and print 'I have eaten 99 burritos.',\n",
    "#99 needs '' around it to treat it as a string. The right answer \n",
    "print('I have eaten  99  burritos')\n"
   ]
  },
  {
   "cell_type": "code",
   "execution_count": null,
   "id": "5d91834c",
   "metadata": {},
   "outputs": [],
   "source": []
  }
 ],
 "metadata": {
  "kernelspec": {
   "display_name": "Python 3 (ipykernel)",
   "language": "python",
   "name": "python3"
  },
  "language_info": {
   "codemirror_mode": {
    "name": "ipython",
    "version": 3
   },
   "file_extension": ".py",
   "mimetype": "text/x-python",
   "name": "python",
   "nbconvert_exporter": "python",
   "pygments_lexer": "ipython3",
   "version": "3.10.9"
  }
 },
 "nbformat": 4,
 "nbformat_minor": 5
}

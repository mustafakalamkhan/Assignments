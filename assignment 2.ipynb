{
 "cells": [
  {
   "cell_type": "markdown",
   "id": "dd2e41a2",
   "metadata": {},
   "source": [
    "1. What are the two values of the Boolean data type? How do you write them?\n",
    "\n",
    "ANS-The Boolean data type represents a logical value that can have one of two possible states: true or false.\n",
    "In programming languages, these values are typically represented using the keywords \"true\" and \"false\" (without quotation marks)."
   ]
  },
  {
   "cell_type": "markdown",
   "id": "6ffa3a4c",
   "metadata": {},
   "source": [
    "2. What are the three different types of Boolean operators?\n",
    "\n",
    "Ans-The three different types of Boolean operators are: AND, OR, and NOT12.\n",
    "    These operators form the basis of mathematical sets and database logic. \n",
    "    They connect your search words together to either narrow or broaden your set of results\n",
    "    "
   ]
  },
  {
   "cell_type": "markdown",
   "id": "24a8a72e",
   "metadata": {},
   "source": [
    "#3. Make a list of each Boolean operator's truth tables (i.e. every possible combination of Boolean\n",
    "#   values for the operator and what it evaluate ).\n",
    "\n",
    "#Ans- A list of each Boolean operator's truth tables\n",
    "| Operand 1 | Operand 2 | Result |\n",
    "|-----------|-----------|--------|\n",
    "|  False    |  False    |  False |\n",
    "|  False    |  True     |  False |\n",
    "|  True     |  False    |  False |\n",
    "|  True     |  True     |  True  |"
   ]
  },
  {
   "cell_type": "code",
   "execution_count": 13,
   "id": "40fdc6b9",
   "metadata": {},
   "outputs": [],
   "source": [
    "#4. What are the values of the following expressions?\n",
    "#Ans-The values of the following expressions are-\n",
    "#(5 > 4) and (3 == 5) - False\n",
    "#not (5 > 4) - False\n",
    "#(5 > 4) or (3 == 5) - True\n",
    "#not ((5 > 4) or (3 == 5)) - False\n",
    "#(True and True) and (True == False) - False\n",
    "#(not False) or (not True) - True"
   ]
  },
  {
   "cell_type": "markdown",
   "id": "7ff2a5ed",
   "metadata": {},
   "source": [
    "5. What are the six comparison operators?\n",
    "\n",
    "Ans- The six comparison operators are\n",
    "Equal to: ==\n",
    "Not equal to: !=\n",
    "Greater than: >\n",
    "Greater than or equal to: >=\n",
    "Less than: <\n",
    "Less than or equal to: <="
   ]
  },
  {
   "cell_type": "markdown",
   "id": "b25f279d",
   "metadata": {},
   "source": [
    "6. How do you tell the difference between the equal to and assignment operators?Describe a condition and when you would use one.\n",
    "\n",
    "Ans-The “=” is an assignment operator used to assign the value on the right to the variable on the left. \n",
    "a = 10;\n",
    "b = 20;\n",
    "ch = 'y';\n",
    "The ‘==’ operator checks whether the two given operands are equal or not. If so, it returns true. Otherwise it returns false. \n",
    "5==5\n",
    "\n",
    "This will return true."
   ]
  },
  {
   "cell_type": "code",
   "execution_count": 19,
   "id": "54f39312",
   "metadata": {},
   "outputs": [
    {
     "name": "stdout",
     "output_type": "stream",
     "text": [
      "ham\n",
      "spam\n",
      "spam\n"
     ]
    }
   ],
   "source": [
    "#7. Identify the three blocks in this code:\n",
    "spam = 0\n",
    "if spam == 10:\n",
    "    print('eggs')\n",
    "if spam > 5:\n",
    "    print('bacon')\n",
    "else:\n",
    "    print('ham')\n",
    "    print('spam')\n",
    "    print('spam')"
   ]
  },
  {
   "cell_type": "code",
   "execution_count": 28,
   "id": "10f65ac2",
   "metadata": {},
   "outputs": [
    {
     "name": "stdout",
     "output_type": "stream",
     "text": [
      "Howdy\n"
     ]
    }
   ],
   "source": [
    "#8. Write code that prints Hello if 1 is stored in spam, prints Howdy if 2 is stored in spam, and prints\n",
    "#Greetings! if anything else is stored in spam.\n",
    "#Ans-spam =  # Assign a value to the 'spam' variable\n",
    "spam=2\n",
    "if spam == 1:\n",
    "    print(\"Hello\")\n",
    "elif spam == 2:\n",
    "    print(\"Howdy\")\n",
    "else:\n",
    "    print(\"Greetings!\")"
   ]
  },
  {
   "cell_type": "markdown",
   "id": "40542820",
   "metadata": {},
   "source": [
    "9. If your programme is stuck in an endless loop, what keys you’ll press?\n",
    "\n",
    "Ans-ctrl+c"
   ]
  },
  {
   "cell_type": "markdown",
   "id": "4b686756",
   "metadata": {},
   "source": [
    "10. How can you tell the difference between break and continue?\n",
    "\n",
    "Ans-Break: The break statement is used to immediately exit or terminate the loop it is placed within. When encountered, the break statement causes the program execution to jump out of the loop entirely, regardless of the loop's condition. The program continues to execute from the next statement after the loop.\n",
    "\n",
    "Continue: The continue statement is used to skip the remaining code within the loop for the current iteration and move on to the next iteration. When encountered, the continue statement causes the program execution to immediately jump back to the start of the loop and evaluate the loop condition. If the condition is still true, the next iteration of the loop begins. This means that any code below the continue statement within the loop body is skipped for that particular iteration."
   ]
  },
  {
   "cell_type": "markdown",
   "id": "549ddf58",
   "metadata": {},
   "source": [
    "11. In a for loop, what is the difference between range(10), range(0, 10), and range(0, 10, 1)?\n",
    "\n",
    "Ans-  The difference between range(10), range(0, 10), and range(0, 10, 1) are-\n",
    "range(10): This expression creates a range object that generates a sequence of numbers starting from 0 (default start value) up to, but not including, the specified stop value of 10. It increments by 1 (default step value). This form of range() is commonly used when you want to iterate over a sequence a specific number of times.\n",
    "\n",
    "range(0, 10): This expression creates a range object that generates a sequence of numbers starting from the specified start value of 0 up to, but not including, the specified stop value of 10. It increments by 1 (default step value). The start value can be explicitly specified as 0, but since 0 is the default value, it can be omitted.\n",
    "\n",
    "range(0, 10, 1): This expression creates a range object that generates a sequence of numbers starting from the specified start value of 0 up to, but not including, the specified stop value of 10. It explicitly specifies the step value as 1. The step value determines the increment between consecutive numbers in the sequence. In this case, the step value is 1, which means the sequence increments by 1 for each iteration.\n",
    "\n"
   ]
  },
  {
   "cell_type": "code",
   "execution_count": 35,
   "id": "01e34818",
   "metadata": {},
   "outputs": [
    {
     "name": "stdout",
     "output_type": "stream",
     "text": [
      "1\n",
      "2\n",
      "3\n",
      "4\n",
      "5\n",
      "6\n",
      "7\n",
      "8\n",
      "9\n",
      "10\n"
     ]
    }
   ],
   "source": [
    "#12. Write a short program that prints the numbers 1 to 10 using a for loop. Then write an equivalent\n",
    "#program that prints the numbers 1 to 10 using a while loop.\n",
    "num = 1\n",
    "while num <= 10:\n",
    "    print(num)\n",
    "    num += 1\n"
   ]
  },
  {
   "cell_type": "markdown",
   "id": "5560f09d",
   "metadata": {},
   "source": [
    "13. If you had a function named bacon() inside a module named spam, how would you call it after\n",
    "importing spam?\n",
    "\n",
    "Ans-\n",
    "import spam\n",
    "\n",
    "spam.bacon()"
   ]
  }
 ],
 "metadata": {
  "kernelspec": {
   "display_name": "Python 3 (ipykernel)",
   "language": "python",
   "name": "python3"
  },
  "language_info": {
   "codemirror_mode": {
    "name": "ipython",
    "version": 3
   },
   "file_extension": ".py",
   "mimetype": "text/x-python",
   "name": "python",
   "nbconvert_exporter": "python",
   "pygments_lexer": "ipython3",
   "version": "3.10.9"
  }
 },
 "nbformat": 4,
 "nbformat_minor": 5
}

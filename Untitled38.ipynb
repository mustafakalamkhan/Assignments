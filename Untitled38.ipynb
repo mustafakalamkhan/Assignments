{
 "cells": [
  {
   "cell_type": "markdown",
   "id": "bf2b8b92",
   "metadata": {},
   "source": [
    "Q1-What exactly is []?\n",
    "A1In Python, [] is an empty list. It is a list data structure that contains no elements. It is often used to initialize a new list or to represent a list that has no items.\n",
    "\n",
    "For example:"
   ]
  },
  {
   "cell_type": "code",
   "execution_count": null,
   "id": "2aaf9294",
   "metadata": {},
   "outputs": [],
   "source": [
    "my_list = []\n",
    "print(my_list)  # Output: []"
   ]
  },
  {
   "cell_type": "markdown",
   "id": "8860a2a0",
   "metadata": {},
   "source": [
    "An empty list is a valid list, and you can perform operations on it, such as appending elements to it:"
   ]
  },
  {
   "cell_type": "code",
   "execution_count": null,
   "id": "48ea47db",
   "metadata": {},
   "outputs": [],
   "source": [
    "my_list = []\n",
    "my_list.append(1)\n",
    "print(my_list)  # Output: [1]"
   ]
  },
  {
   "cell_type": "markdown",
   "id": "e5dbb36d",
   "metadata": {},
   "source": [
    "Note that [] is not the same as None, which represents the absence of a value. [] is a actual list object, whereas None is a special value that indicates the absence of a value."
   ]
  },
  {
   "cell_type": "markdown",
   "id": "0f757bf3",
   "metadata": {},
   "source": [
    "Q2-In a list of values stored in a variable called spam, how would you assign the value'hello' as the third value? (Assume [2, 4, 6, 8, 10] are in spam.)\n",
    "A2- If you want to assign the value 'hello' as the third value in the list spam, you can use indexing to access the third element of the list and assign the new value.\n",
    "Here's how you can do it:"
   ]
  },
  {
   "cell_type": "code",
   "execution_count": null,
   "id": "9af7e957",
   "metadata": {},
   "outputs": [],
   "source": [
    "spam = [2, 4, 6, 8, 10]\n",
    "spam[2] = 'hello'\n",
    "print(spam)  # Output: [2, 4, 'hello', 8, 10]"
   ]
  },
  {
   "cell_type": "markdown",
   "id": "0e148669",
   "metadata": {},
   "source": [
    "In this example, spam[2] accesses the third element of the list (remember that indexing starts at 0, so the third element is at index 2), and then assigns the value 'hello' to it.\n",
    "\n",
    "Note that this will replace the existing value at index 2, which was 6. If you want to insert 'hello' as a new third element, shifting the existing elements to the right, you can use the insert() method:"
   ]
  },
  {
   "cell_type": "code",
   "execution_count": null,
   "id": "f42b85b7",
   "metadata": {},
   "outputs": [],
   "source": [
    "spam = [2, 4, 6, 8, 10]\n",
    "spam.insert(2, 'hello')\n",
    "print(spam)  # Output: [2, 4, 'hello', 6, 8, 10]"
   ]
  },
  {
   "cell_type": "markdown",
   "id": "5c74ad6d",
   "metadata": {},
   "source": [
    "Q3- What is the value of spam[int(int('3' * 2) / 11)]?\n",
    "A3- Let's break it down step by step:\n",
    "int('3' * 2): This expression multiplies the string '3' by 2, resulting in '33'. Then, it converts this string to an integer using the int() function, resulting in the integer 33.\n",
    "\n",
    "int(int('3' * 2) / 11): This expression divides 33 by 11, resulting in 3.0. Then, it converts this floating-point number to an integer using the int() function, resulting in the integer 3.\n",
    "\n",
    "spam[int(int('3' * 2) / 11)]: Assuming spam is the list [2, 4, 6, 8, 10], this expression is equivalent to spam[3], which is the fourth element of the list. Therefore, the value of spam[int(int('3' * 2) / 11)] is 8.\n",
    "                                      "
   ]
  },
  {
   "cell_type": "markdown",
   "id": "1b20100e",
   "metadata": {},
   "source": [
    "Q4. What is the value of spam[-1]?\n",
    "A4- The value of spam[-1] is the last element of the list spam.\n",
    "\n",
    "Assuming spam is the list [2, 4, 6, 8, 10], the value of spam[-1] is 10."
   ]
  },
  {
   "cell_type": "code",
   "execution_count": null,
   "id": "3382fae2",
   "metadata": {},
   "outputs": [],
   "source": [
    "Q5. What is the value of spam[:2]?\n",
    "A5 The value of spam[:2] is a slice of the list spam from the beginning up to, but not including, the index 2.\n",
    "\n",
    "Assuming spam is the list [2, 4, 6, 8, 10], the value of spam[:2] is [2, 4]."
   ]
  },
  {
   "cell_type": "markdown",
   "id": "ba07f9fc",
   "metadata": {},
   "source": [
    "Q6. What is the value of bacon.index('cat')?\n",
    "A6- The value of bacon.index('cat') is 1.\n",
    "\n",
    "Here is the code:"
   ]
  },
  {
   "cell_type": "code",
   "execution_count": null,
   "id": "2896675c",
   "metadata": {},
   "outputs": [],
   "source": [
    "bacon = [3.14, 'cat', 11, 'cat', True]\n",
    "print(bacon.index('cat'))  # Output = 1"
   ]
  },
  {
   "cell_type": "markdown",
   "id": "d94c3220",
   "metadata": {},
   "source": [
    "Q7. How does bacon.append(99) change the look of the list value in bacon?\n",
    "A7- bacon.append(99) adds a new element 99 to the end of the list bacon.\n",
    "\n",
    "Before: bacon = [3.14, 'cat', 11, 'cat', True] After: bacon = [3.14, 'cat', 11, 'cat', True, 99]"
   ]
  },
  {
   "cell_type": "code",
   "execution_count": null,
   "id": "f3ad896d",
   "metadata": {},
   "outputs": [],
   "source": [
    "bacon = [3.14, 'cat', 11, 'cat', True]\n",
    "bacon.append(99)\n",
    "print(bacon)  # Output = [3.14, 'cat', 11, 'cat', True, 99]"
   ]
  },
  {
   "cell_type": "markdown",
   "id": "6e6b20a9",
   "metadata": {},
   "source": [
    "Q8- How does bacon.remove('cat') change the look of the list in bacon?\n",
    "A8- bacon.remove('cat') removes the first occurrence of 'cat' from the list bacon.\n",
    "\n",
    "Before: bacon = [3.14, 'cat', 11, 'cat', True] After: bacon = [3.14, 11, 'cat', True]"
   ]
  },
  {
   "cell_type": "code",
   "execution_count": null,
   "id": "bcc7d129",
   "metadata": {},
   "outputs": [],
   "source": [
    "bacon = [3.14, 'cat', 11, 'cat', True]\n",
    "bacon.remove('cat')\n",
    "print(bacon)  # Output = [3.14, 11, 'cat', True]"
   ]
  },
  {
   "cell_type": "markdown",
   "id": "6dd98750",
   "metadata": {},
   "source": [
    "Q9- What are the list concatenation and list replication operators?\n",
    "A9- The list concatenation operator is +. It is used to combine two or more lists into a single list.\n"
   ]
  },
  {
   "cell_type": "code",
   "execution_count": null,
   "id": "93876942",
   "metadata": {},
   "outputs": [],
   "source": [
    "list1 = [1, 2, 3]\n",
    "list2 = [4, 5, 6]\n",
    "list3 = list1 + list2\n",
    "print(list3)  # Output: [1, 2, 3, 4, 5, 6]"
   ]
  },
  {
   "cell_type": "markdown",
   "id": "d82f72fd",
   "metadata": {},
   "source": [
    "The list replication operator is *. It is used to repeat a list a certain number of times."
   ]
  },
  {
   "cell_type": "code",
   "execution_count": null,
   "id": "b2d67225",
   "metadata": {},
   "outputs": [],
   "source": [
    "list1 = [1, 2, 3]\n",
    "list2 = list1 * 3\n",
    "print(list2)  # Output: [1, 2, 3, 1, 2, 3, 1, 2, 3]"
   ]
  },
  {
   "cell_type": "markdown",
   "id": "78e5a1f0",
   "metadata": {},
   "source": [
    "Q10- What is difference between the list methods append() and insert()?\n",
    "A10- The append() and insert() methods in Python are used to add elements to a list, but they work in different ways:\n",
    "\n",
    "append(): The append() method adds an element to the end of the list. It takes one argument, which is the element to be added."
   ]
  },
  {
   "cell_type": "code",
   "execution_count": null,
   "id": "fe7d9be8",
   "metadata": {},
   "outputs": [],
   "source": [
    "my_list = [1, 2, 3]\n",
    "my_list.append(4)\n",
    "print(my_list)  # Output: [1, 2, 3, 4]"
   ]
  },
  {
   "cell_type": "markdown",
   "id": "0ebfc765",
   "metadata": {},
   "source": [
    "insert(): The insert() method adds an element at a specific position in the list. It takes two arguments: the index where the element should be inserted, and the element to be inserted."
   ]
  },
  {
   "cell_type": "code",
   "execution_count": null,
   "id": "e8831afe",
   "metadata": {},
   "outputs": [],
   "source": [
    "my_list = [1, 2, 3]\n",
    "my_list.insert(1, 4)\n",
    "print(my_list)  # Output: [1, 4, 2, 3]"
   ]
  },
  {
   "cell_type": "markdown",
   "id": "a148e873",
   "metadata": {},
   "source": [
    "In the example above, the element 4 is inserted at index 1, which means it is placed between the elements 1 and 2.\n",
    "\n",
    "So, the main difference between append() and insert() is that append() adds an element to the end of the list, while insert() adds an element at a specific position in the list."
   ]
  },
  {
   "cell_type": "markdown",
   "id": "c4127f40",
   "metadata": {},
   "source": [
    "Q11- What are the two methods for removing items from a list?\n",
    "A11- There are two main methods for removing items from a list in Python:\n",
    "\n",
    "remove(item): This method removes the first occurrence of the specified item from the list. If the item is not in the list, a ValueError is raised."
   ]
  },
  {
   "cell_type": "code",
   "execution_count": null,
   "id": "a22bff7a",
   "metadata": {},
   "outputs": [],
   "source": [
    "my_list = [1, 2, 3, 4, 5]\n",
    "my_list.remove(3)\n",
    "print(my_list)  # Output: [1, 2, 4, 5]"
   ]
  },
  {
   "cell_type": "markdown",
   "id": "f467f1cb",
   "metadata": {},
   "source": [
    "pop([index]): This method removes the item at the specified index and returns it. If no index is specified, it removes and returns the last item.\n",
    "Example:"
   ]
  },
  {
   "cell_type": "code",
   "execution_count": null,
   "id": "a9345b2c",
   "metadata": {},
   "outputs": [],
   "source": [
    "my_list = [1, 2, 3, 4, 5]\n",
    "removed_item = my_list.pop(2)\n",
    "print(removed_item)  # Output: 3\n",
    "print(my_list)  # Output: [1, 2, 4, 5]"
   ]
  },
  {
   "cell_type": "markdown",
   "id": "1e34516d",
   "metadata": {},
   "source": [
    "It is also possible to remove elements from a list using the del statement, as I explained in the search results. This allows you to remove elements by index or slice."
   ]
  },
  {
   "cell_type": "markdown",
   "id": "04f99075",
   "metadata": {},
   "source": [
    "Q12- Describe how list values and string values are identical.\n",
    "A12- List values and string values are not identical, but they do share some similarities. Here are a few ways in which they are similar:\n",
    "\n",
    "Indexing: Both lists and strings can be indexed, meaning you can access individual elements or characters using square brackets [] and an index number. For example:"
   ]
  },
  {
   "cell_type": "code",
   "execution_count": null,
   "id": "55010bce",
   "metadata": {},
   "outputs": [],
   "source": [
    "my_list = [1, 2, 3, 4, 5]\n",
    "print(my_list[0])  # Output: 1\n",
    "\n",
    "my_string = \"hello\"\n",
    "print(my_string[0])  # Output: \"h\""
   ]
  },
  {
   "cell_type": "markdown",
   "id": "4ff95144",
   "metadata": {},
   "source": [
    "Slicing: Both lists and strings support slicing, which allows you to extract a subset of elements or characters using a range of indices. For example:"
   ]
  },
  {
   "cell_type": "code",
   "execution_count": null,
   "id": "e19fe116",
   "metadata": {},
   "outputs": [],
   "source": [
    "my_list = [1, 2, 3, 4, 5]\n",
    "print(my_list[1:3])  # Output: [2, 3]\n",
    "\n",
    "my_string = \"hello\"\n",
    "print(my_string[1:3])  # Output: \"el\""
   ]
  },
  {
   "cell_type": "markdown",
   "id": "1260ea2c",
   "metadata": {},
   "source": [
    "Length: Both lists and strings have a length, which can be obtained using the len() function. For example:"
   ]
  },
  {
   "cell_type": "code",
   "execution_count": null,
   "id": "e22b690c",
   "metadata": {},
   "outputs": [],
   "source": [
    "my_list = [1, 2, 3, 4, 5]\n",
    "print(len(my_list))  # Output: 5\n",
    "\n",
    "my_string = \"hello\"\n",
    "print(len(my_string))  # Output: 5"
   ]
  },
  {
   "cell_type": "markdown",
   "id": "89261399",
   "metadata": {},
   "source": [
    "Immutability: Strings are immutable, meaning they cannot be changed in place. While lists are mutable, they can be treated as immutable if you don't modify them. For example:"
   ]
  },
  {
   "cell_type": "code",
   "execution_count": null,
   "id": "a8c671fe",
   "metadata": {},
   "outputs": [],
   "source": [
    "my_string = \"hello\"\n",
    "my_string[0] = \"H\"  # This will raise a TypeError\n",
    "\n",
    "my_list = [1, 2, 3, 4, 5]\n",
    "my_list[0] = 10  # This is allowed, but it modifies the original list"
   ]
  },
  {
   "cell_type": "code",
   "execution_count": null,
   "id": "281822ca",
   "metadata": {},
   "outputs": [],
   "source": [
    "Iteration: Both lists and strings can be iterated over using a for loop or other iteration constructs. For example:"
   ]
  },
  {
   "cell_type": "code",
   "execution_count": null,
   "id": "c2d5ce33",
   "metadata": {},
   "outputs": [],
   "source": [
    "my_list = [1, 2, 3, 4, 5]\n",
    "for element in my_list:\n",
    "    print(element)\n",
    "\n",
    "my_string = \"hello\"\n",
    "for char in my_string:\n",
    "    print(char)"
   ]
  },
  {
   "cell_type": "markdown",
   "id": "7917a2cb",
   "metadata": {},
   "source": [
    "Despite these similarities, lists and strings are distinct data types with different properties and behaviors. Lists are mutable, dynamic collections of elements, while strings are immutable sequences of characters."
   ]
  },
  {
   "cell_type": "markdown",
   "id": "d417dcde",
   "metadata": {},
   "source": [
    "Q13- What's the difference between tuples and lists?\n",
    "A13- In Python, tuples and lists are both data structures that can store multiple values, but they have some key differences:\n",
    "\n",
    "1. Immutability: * Tuples are immutable, meaning their contents cannot be changed after creation. * Lists are mutable, meaning their contents can be modified after creation.\n",
    "\n",
    "2. Syntax: * Tuples are defined using parentheses () and elements are separated by commas. * Lists are defined using square brackets [] and elements are separated by commas.\n",
    "\n",
    "3. Usage: * Tuples are often used when you need to store a collection of values that shouldn't be changed, such as a point in 2D space (x, y) or a database record. * Lists are commonly used when you need to store a collection of values that may need to be modified, such as a list of items in a shopping cart or a list of user input.\n",
    "\n",
    "4. Performance: * Tuples are generally faster and more memory-efficient than lists because they are immutable and can be stored in a single block of memory. * Lists, being mutable, require more memory and processing power to manage their dynamic nature.\n",
    "\n",
    "3. Usage: * Tuples are often used when you need to store a collection of values that shouldn't be changed, such as a point in 2D space (x, y) or a database record. * Lists are commonly used when you need to store a collection of values that may need to be modified, such as a list of items in a shopping cart or a list of user input.\n",
    "\n",
    "4. Performance: * Tuples are generally faster and more memory-efficient than lists because they are immutable and can be stored in a single block of memory. * Lists, being mutable, require more memory and processing power to manage their dynamic nature."
   ]
  },
  {
   "cell_type": "code",
   "execution_count": null,
   "id": "97b75284",
   "metadata": {},
   "outputs": [],
   "source": [
    "# Tuple\n",
    "my_tuple = (1, 2, 3)\n",
    "try:\n",
    "    my_tuple[0] = 10  # This will raise a TypeError\n",
    "except TypeError as e:\n",
    "    print(e)  # Output: 'tuple' object does not support item assignment\n",
    "\n",
    "# List\n",
    "my_list = [1, 2, 3]\n",
    "my_list[0] = 10  # This is allowed\n",
    "print(my_list)  # Output: [10, 2, 3]"
   ]
  },
  {
   "cell_type": "markdown",
   "id": "1a6dcfe6",
   "metadata": {},
   "source": [
    "In summary, tuples are immutable, syntax-wise similar to lists, but with limited methods and faster performance. Lists are mutable, with more methods, but slower performance. Choose the right data structure depending on your use case!"
   ]
  },
  {
   "cell_type": "markdown",
   "id": "e0b6594d",
   "metadata": {},
   "source": [
    "Q14- How do you type a tuple value that only contains the integer 42?\n",
    "A14- To type a tuple value that only contains the integer 42, you would use the following syntax:"
   ]
  },
  {
   "cell_type": "code",
   "execution_count": null,
   "id": "afd35cd1",
   "metadata": {},
   "outputs": [],
   "source": [
    "my_tuple = (42,)"
   ]
  },
  {
   "cell_type": "markdown",
   "id": "017b9fb4",
   "metadata": {},
   "source": [
    "Notice the comma after the 42. This is important because it tells Python that you're creating a tuple with a single element, rather than just enclosing the value in parentheses.\n",
    "\n",
    "If you omit the comma, like this:"
   ]
  },
  {
   "cell_type": "code",
   "execution_count": null,
   "id": "4d771197",
   "metadata": {},
   "outputs": [],
   "source": [
    "my_tuple = (42)"
   ]
  },
  {
   "cell_type": "markdown",
   "id": "2be60b64",
   "metadata": {},
   "source": [
    "Python will simply evaluate the expression inside the parentheses and assign the result to my_tuple, which would be just the integer 42, not a tuple.\n",
    "\n",
    "So, to summarize: a tuple with a single element needs a trailing comma to distinguish it from a simple expression enclosed in parentheses."
   ]
  },
  {
   "cell_type": "markdown",
   "id": "0d46b111",
   "metadata": {},
   "source": [
    "Q15- How do you get a list value's tuple form? How do you get a tuple value's list form?\n",
    "A15- Converting a list to a tuple: To get a list value's tuple form, you can use the tuple() function, like this:"
   ]
  },
  {
   "cell_type": "code",
   "execution_count": null,
   "id": "75f6d305",
   "metadata": {},
   "outputs": [],
   "source": [
    "my_list = [1, 2, 3, 4, 5]\n",
    "my_tuple = tuple(my_list)\n",
    "print(my_tuple)  # Output: (1, 2, 3, 4, 5)"
   ]
  },
  {
   "cell_type": "markdown",
   "id": "43c4ef49",
   "metadata": {},
   "source": [
    "The tuple() function takes an iterable (like a list) as an argument and returns a tuple containing the same elements.\n",
    "\n",
    "Converting a tuple to a list: To get a tuple value's list form, you can use the list() function, like this:"
   ]
  },
  {
   "cell_type": "code",
   "execution_count": null,
   "id": "7e5c018c",
   "metadata": {},
   "outputs": [],
   "source": [
    "my_tuple = (1, 2, 3, 4, 5)\n",
    "my_list = list(my_tuple)\n",
    "print(my_list)  # Output: [1, 2, 3, 4, 5]"
   ]
  },
  {
   "cell_type": "markdown",
   "id": "008f10fb",
   "metadata": {},
   "source": [
    "The list() function takes an iterable (like a tuple) as an argument and returns a list containing the same elements.\n",
    "\n",
    "These conversions are useful when you need to switch between the two data structures, depending on your use case. For example, if you need to modify a collection of values, you might want to convert a tuple to a list. If you need to ensure that a collection of values remains immutable, you might want to convert a list to a tuple."
   ]
  },
  {
   "cell_type": "markdown",
   "id": "cc53595f",
   "metadata": {},
   "source": [
    "Q16- Variables that &quot;contain&quot; list values are not necessarily lists themselves. Instead, what do they\n",
    "contain?\n",
    "A16- Variables that \"contain\" list values actually store references to list objects, not the list objects themselves. In other words, when you assign a list to a variable, the variable doesn't contain the actual list data, but rather a memory address pointing to the list object in memory.\n",
    "\n",
    "Here's an example to illustrate this concept:"
   ]
  },
  {
   "cell_type": "code",
   "execution_count": null,
   "id": "46f612d2",
   "metadata": {},
   "outputs": [],
   "source": [
    "list1 = [1, 2, 3]\n",
    "list2 = list1\n",
    "\n",
    "print(id(list1))  # Output: 12345678\n",
    "print(id(list2))  # Output: 12345678"
   ]
  },
  {
   "cell_type": "markdown",
   "id": "c0c8e0ac",
   "metadata": {},
   "source": [
    "In this example, list1 and list2 are two separate variables, but they both contain references to the same list object in memory. The id() function returns the memory address of an object, and as you can see, both list1 and list2 have the same memory address, which means they refer to the same list object.\n",
    "\n",
    "When you modify the list through one variable, the change is reflected in the other variable as well, since they both refer to the same object:"
   ]
  },
  {
   "cell_type": "code",
   "execution_count": null,
   "id": "cc2e226a",
   "metadata": {},
   "outputs": [],
   "source": [
    "list1.append(4)\n",
    "print(list2)  # Output: [1, 2, 3, 4]"
   ]
  },
  {
   "cell_type": "markdown",
   "id": "84042f54",
   "metadata": {},
   "source": [
    "This behavior is common to all mutable objects in Python, such as lists, dictionaries, and sets. It's important to understand this concept when working with variables and objects in Python, as it can help you avoid unexpected behavior and bugs in your code."
   ]
  },
  {
   "cell_type": "markdown",
   "id": "4f5fb577",
   "metadata": {},
   "source": [
    "Q17- How do you distinguish between copy.copy() and copy.deepcopy()?\n",
    "A17- copy.copy() and copy.deepcopy() are two functions from the copy module in Python that create copies of objects, but they differ in how they handle nested objects and references.\n",
    "\n",
    "copy.copy() (Shallow Copy)\n",
    "\n",
    "copy.copy() creates a shallow copy of an object, which means it creates a new object and inserts references to the original elements. This is a fast and efficient way to copy objects, but it has some limitations.\n",
    "\n",
    "Here's an example:"
   ]
  },
  {
   "cell_type": "code",
   "execution_count": null,
   "id": "f6c0deef",
   "metadata": {},
   "outputs": [],
   "source": [
    "import copy\n",
    "\n",
    "original_list = [[1, 2], [3, 4]]\n",
    "shallow_copy = copy.copy(original_list)\n",
    "\n",
    "print(shallow_copy)  # Output: [[1, 2], [3, 4]]\n",
    "\n",
    "# Modify the original list\n",
    "original_list[0][0] = 10\n",
    "\n",
    "print(shallow_copy)  # Output: [[10, 2], [3, 4]]"
   ]
  },
  {
   "cell_type": "markdown",
   "id": "c6d9fd92",
   "metadata": {},
   "source": [
    "As you can see, the shallow copy shallow_copy still references the original inner lists, so when we modify the original list, the changes are reflected in the shallow copy.\n",
    "\n",
    "copy.deepcopy() (Deep Copy)\n",
    "\n",
    "copy.deepcopy() creates a deep copy of an object, which means it recursively creates new objects for all nested elements, breaking any references to the original objects. This is a slower and more memory-intensive process, but it ensures that the copied object is completely independent of the original.\n",
    "\n",
    "Here's an example:"
   ]
  },
  {
   "cell_type": "code",
   "execution_count": null,
   "id": "844d994a",
   "metadata": {},
   "outputs": [],
   "source": [
    "import copy\n",
    "\n",
    "original_list = [[1, 2], [3, 4]]\n",
    "deep_copy = copy.deepcopy(original_list)\n",
    "\n",
    "print(deep_copy)  # Output: [[1, 2], [3, 4]]\n",
    "\n",
    "# Modify the original list\n",
    "original_list[0][0] = 10\n",
    "\n",
    "print(deep_copy)  # Output: [[1, 2], [3, 4]]"
   ]
  },
  {
   "cell_type": "markdown",
   "id": "d702b068",
   "metadata": {},
   "source": [
    "In this case, the deep copy deep_copy is completely independent of the original list, so modifying the original list doesn't affect the deep copy."
   ]
  }
 ],
 "metadata": {
  "kernelspec": {
   "display_name": "Python 3 (ipykernel)",
   "language": "python",
   "name": "python3"
  },
  "language_info": {
   "codemirror_mode": {
    "name": "ipython",
    "version": 3
   },
   "file_extension": ".py",
   "mimetype": "text/x-python",
   "name": "python",
   "nbconvert_exporter": "python",
   "pygments_lexer": "ipython3",
   "version": "3.10.9"
  }
 },
 "nbformat": 4,
 "nbformat_minor": 5
}

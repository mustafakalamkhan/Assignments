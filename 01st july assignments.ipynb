{
 "cells": [
  {
   "cell_type": "markdown",
   "id": "70d4d286",
   "metadata": {},
   "source": [
    "ANS 1\n",
    "The primary goal of Object-Oriented Programming (OOP) is\n",
    "to design software using \"objects\" that encapsulate data and methods.\n",
    "OOP aims to improve code organization, reusability, and maintainability through principles like encapsulation,\n",
    "inheritance, polymorphism, and abstraction. It models real-world entities and promotes modular,\n",
    "scalable, and well-organized code."
   ]
  },
  {
   "cell_type": "markdown",
   "id": "6c30a97d",
   "metadata": {},
   "source": [
    "Ans 2 \n",
    "In Python, an object is a fundamental unit that represents real-world entities or data.\n",
    "Everything in Python, like integers, strings, and custom-defined structures, is an object.\n",
    "Objects have three main characteristics: identity (unique address), type (defining the kind of entity),\n",
    "and value (actual data content). Custom objects can be created using classes, which serve as blueprints for object creation."
   ]
  },
  {
   "cell_type": "code",
   "execution_count": 1,
   "id": "cf7837f6",
   "metadata": {},
   "outputs": [
    {
     "name": "stdout",
     "output_type": "stream",
     "text": [
      "Toyota\n",
      "Camry\n"
     ]
    }
   ],
   "source": [
    "class Car:\n",
    "    def __init__(self, brand, model):\n",
    "        self.brand = brand\n",
    "        self.model = model\n",
    "\n",
    "# Creating an object (instance) of the Car class\n",
    "my_car = Car(brand=\"Toyota\", model=\"Camry\")\n",
    "\n",
    "# Accessing object attributes\n",
    "print(my_car.brand)  # Output: Toyota\n",
    "print(my_car.model)  # Output: Camry\n"
   ]
  },
  {
   "cell_type": "markdown",
   "id": "772df84e",
   "metadata": {},
   "source": [
    "Ans 3\n",
    "A class is a blueprint for creating objects. It defines a data structure that encapsulates attributes\n",
    "(variables) and methods (functions) that operate on those attributes. Objects created from a class are instances of that class.\n",
    "\n",
    "The key concepts related to classes in Python:\n",
    "\n",
    "Attributes: Variables that store data within a class. They represent the characteristics or \n",
    "properties of the objects created from the class.\n",
    "\n",
    "Methods: Functions defined within a class that perform operations on the class's attributes\n",
    "or provide specific functionality associated with the class.\n",
    "\n",
    "Object: An instance of a class. Objects are created based on the structure defined by the class\n",
    "and can have their own unique attribute values.\n",
    "\n",
    "Constructor (__init__): A special method in a class that is automatically called when an object is created.\n",
    "It is used to initialize the object's attributes."
   ]
  },
  {
   "cell_type": "code",
   "execution_count": 2,
   "id": "6613a2d9",
   "metadata": {},
   "outputs": [
    {
     "name": "stdout",
     "output_type": "stream",
     "text": [
      "Buddy\n",
      "3\n",
      "Buddy says Woof!\n"
     ]
    }
   ],
   "source": [
    "class Dog:\n",
    "    def __init__(self, name, age):\n",
    "        self.name = name\n",
    "        self.age = age\n",
    "\n",
    "    def bark(self):\n",
    "        print(f\"{self.name} says Woof!\")\n",
    "\n",
    "# Creating an object (instance) of the Dog class\n",
    "my_dog = Dog(name=\"Buddy\", age=3)\n",
    "\n",
    "# Accessing object attributes and calling a method\n",
    "print(my_dog.name)  # Output: Buddy\n",
    "print(my_dog.age)   # Output: 3\n",
    "my_dog.bark()       # Output: Buddy says Woof!\n"
   ]
  },
  {
   "cell_type": "markdown",
   "id": "d563c638",
   "metadata": {},
   "source": [
    "Ans - 4\n",
    "In a class, attributes are variables that store data representing the characteristics or properties of objects created\n",
    "from the class. On the other hand, methods are functions defined within the class that perform operations on the\n",
    "class's attributes or provide specific functionality associated with the class.\n",
    "\n",
    "Attributes: These are variables that define the characteristics or properties of objects.\n",
    "They store data specific to each instance of the class. For example, in a Person class,\n",
    "attributes could include name and age.\n",
    "\n",
    "Methods: These are functions that are part of the class and can operate on\n",
    "the attributes of the class. Methods represent the behaviors or actions associated with the class. \n",
    "For instance, in a Person class, a say_hello method might print a greeting using the person's name."
   ]
  },
  {
   "cell_type": "code",
   "execution_count": 3,
   "id": "c86098e6",
   "metadata": {},
   "outputs": [],
   "source": [
    "#example of attribute\n",
    "class Person:\n",
    "    def __init__(self, name, age):\n",
    "        self.name = name\n",
    "        self.age = age\n"
   ]
  },
  {
   "cell_type": "code",
   "execution_count": 7,
   "id": "fca87a9d",
   "metadata": {},
   "outputs": [],
   "source": [
    "#exampleofmethod\n",
    "class Person:\n",
    "    def __init__(self, name, age):\n",
    "        self.name = name\n",
    "        self.age = age\n",
    "\n",
    "    def say_hello(self):\n",
    "        print(f\"Hello, my name is {self.name}!\")"
   ]
  },
  {
   "cell_type": "code",
   "execution_count": 8,
   "id": "5be76bbe",
   "metadata": {},
   "outputs": [
    {
     "name": "stdout",
     "output_type": "stream",
     "text": [
      "Alice\n",
      "Hello, my name is Alice!\n"
     ]
    }
   ],
   "source": [
    "# Creating an object of the Person class\n",
    "person = Person(name=\"Alice\", age=25)\n",
    "\n",
    "# Accessing attributes\n",
    "print(person.name)  # Output: Alice\n",
    "\n",
    "# Calling a method\n",
    "person.say_hello()  # Output: Hello, my name is Alice!\n"
   ]
  },
  {
   "cell_type": "markdown",
   "id": "7b8f193f",
   "metadata": {},
   "source": [
    "Ans 5\n",
    "Class variables and instance variables are two types of variables used in classes,\n",
    "and they have different scopes and purposes.\n",
    "\n",
    "Class Variables:\n",
    "\n",
    "Class variables are shared among all instances of a class.\n",
    "Declaration: They are defined outside of any method in the class and are typically placed at the top,\n",
    "directly below the class definition.\n",
    "Purpose: Class variables are used to store data that is shared among all instances of the class.\n",
    "They are associated with the class itself rather than with instances of the class.\n",
    "\n",
    "Instance Variables:\n",
    "\n",
    "Instance variables are specific to each instance of a class.\n",
    "Declaration: They are defined within the __init__ method or any other method of the class that initializes them.\n",
    "Purpose: Instance variables store data that is unique to each instance of the class. \n",
    "They represent the characteristics or properties of individual objects."
   ]
  },
  {
   "cell_type": "code",
   "execution_count": 9,
   "id": "84ddebd5",
   "metadata": {},
   "outputs": [],
   "source": [
    "#n this example, species is a class variable. All instances of the Dog class share this variable.\n",
    "class Dog:\n",
    "    # Class variable\n",
    "    species = \"Canis familiaris\"\n",
    "\n",
    "    def __init__(self, name, age):\n",
    "        # Instance variables\n",
    "        self.name = name\n",
    "        self.age = age\n"
   ]
  },
  {
   "cell_type": "code",
   "execution_count": 10,
   "id": "60ec8794",
   "metadata": {},
   "outputs": [],
   "source": [
    "#In this example, name and age are instance variables. Each instance of the Dog class has its own values for these variables.\n",
    "class Dog:\n",
    "    def __init__(self, name, age):\n",
    "        # Instance variables\n",
    "        self.name = name\n",
    "        self.age = age\n"
   ]
  },
  {
   "cell_type": "code",
   "execution_count": 12,
   "id": "207318df",
   "metadata": {},
   "outputs": [
    {
     "name": "stdout",
     "output_type": "stream",
     "text": [
      "Canis familiaris\n",
      "Buddy 3\n",
      "Charlie 2\n"
     ]
    }
   ],
   "source": [
    "class Dog:\n",
    "    # Class variable\n",
    "    species = \"Canis familiaris\"\n",
    "\n",
    "    def __init__(self, name, age):\n",
    "        # Instance variables\n",
    "        self.name = name\n",
    "        self.age = age\n",
    "\n",
    "# Creating instances of the Dog class\n",
    "dog1 = Dog(name=\"Buddy\", age=3)\n",
    "dog2 = Dog(name=\"Charlie\", age=2)\n",
    "\n",
    "# Accessing class variable\n",
    "print(Dog.species)  # Output: Canis familiaris\n",
    "\n",
    "# Accessing instance variables\n",
    "print(dog1.name, dog1.age)  # Output: Buddy 3\n",
    "print(dog2.name, dog2.age)  # Output: Charlie 2\n",
    "\n"
   ]
  },
  {
   "cell_type": "markdown",
   "id": "5e1e6c80",
   "metadata": {},
   "source": [
    "Ans 6\n",
    "In Python, the self parameter in class methods is a convention that represents the instance of the class.\n",
    "It is the first parameter in the method definition and refers to the instance on which the method is called.\n",
    "The name self is not a keyword; you could technically use any other name, but self is widely adopted and\n",
    "recommended for clarity.\n",
    "\n",
    "The purpose of self is to allow methods to access and modify the attributes and other methods of the instance\n",
    "to which they belong. When you call a method on an object, Python automatically passes the instance as\n",
    "the first argument (i.e., self). This way, methods can operate on the specific instance's data."
   ]
  },
  {
   "cell_type": "code",
   "execution_count": 13,
   "id": "098172fd",
   "metadata": {},
   "outputs": [
    {
     "name": "stdout",
     "output_type": "stream",
     "text": [
      "Buddy says Woof!\n"
     ]
    }
   ],
   "source": [
    "#example to illustrate the use of self:\n",
    "class Dog:\n",
    "    def __init__(self, name, age):\n",
    "        # Instance variables\n",
    "        self.name = name\n",
    "        self.age = age\n",
    "\n",
    "    def bark(self):\n",
    "        print(f\"{self.name} says Woof!\")\n",
    "\n",
    "# Creating an instance of the Dog class\n",
    "my_dog = Dog(name=\"Buddy\", age=3)\n",
    "\n",
    "# Calling a method with the instance\n",
    "my_dog.bark()  # Output: Buddy says Woof!\n"
   ]
  },
  {
   "cell_type": "code",
   "execution_count": 15,
   "id": "f4ba0e0d",
   "metadata": {},
   "outputs": [
    {
     "name": "stdout",
     "output_type": "stream",
     "text": [
      "Title: The Great Gatsby\n",
      "Author(s): F. Scott Fitzgerald\n",
      "ISBN: 9780141182636\n",
      "Publication Year: 1925\n",
      "Available Copies: 5\n",
      "Book 'The Great Gatsby' checked out successfully.\n",
      "Title: The Great Gatsby\n",
      "Author(s): F. Scott Fitzgerald\n",
      "ISBN: 9780141182636\n",
      "Publication Year: 1925\n",
      "Available Copies: 4\n",
      "Book 'The Great Gatsby' returned successfully.\n",
      "Title: The Great Gatsby\n",
      "Author(s): F. Scott Fitzgerald\n",
      "ISBN: 9780141182636\n",
      "Publication Year: 1925\n",
      "Available Copies: 5\n"
     ]
    }
   ],
   "source": [
    "#Ans 7\n",
    "class Book:\n",
    "    def __init__(self, title, author, isbn, publication_year, available_copies):\n",
    "        self.title = title\n",
    "        self.author = author\n",
    "        self.isbn = isbn\n",
    "        self.publication_year = publication_year\n",
    "        self.available_copies = available_copies\n",
    "\n",
    "    def check_out(self):\n",
    "        if self.available_copies > 0:\n",
    "            self.available_copies -= 1\n",
    "            print(f\"Book '{self.title}' checked out successfully.\")\n",
    "        else:\n",
    "            print(\"Sorry, no copies available for checkout.\")\n",
    "\n",
    "    def return_book(self):\n",
    "        self.available_copies += 1\n",
    "        print(f\"Book '{self.title}' returned successfully.\")\n",
    "\n",
    "    def display_book_info(self):\n",
    "        print(f\"Title: {self.title}\")\n",
    "        print(f\"Author(s): {self.author}\")\n",
    "        print(f\"ISBN: {self.isbn}\")\n",
    "        print(f\"Publication Year: {self.publication_year}\")\n",
    "        print(f\"Available Copies: {self.available_copies}\")\n",
    "\n",
    "# Example usage:\n",
    "book1 = Book(title=\"The Great Gatsby\", author=\"F. Scott Fitzgerald\", isbn=\"9780141182636\", publication_year=1925, available_copies=5)\n",
    "\n",
    "book1.display_book_info()\n",
    "\n",
    "# Check out a book\n",
    "book1.check_out()\n",
    "\n",
    "# Display updated book information\n",
    "book1.display_book_info()\n",
    "\n",
    "# Return the book\n",
    "book1.return_book()\n",
    "\n",
    "# Display final book information\n",
    "book1.display_book_info()\n"
   ]
  },
  {
   "cell_type": "code",
   "execution_count": 16,
   "id": "34f02474",
   "metadata": {},
   "outputs": [
    {
     "name": "stdout",
     "output_type": "stream",
     "text": [
      "Ticket ID: 1\n",
      "Event Name: Concert\n",
      "Event Date: 2023-12-01\n",
      "Venue: Arena\n",
      "Seat Number: A101\n",
      "Price: $50.0\n",
      "Reservation Status: Not Reserved\n",
      "Ticket 1 reserved successfully.\n",
      "Ticket ID: 1\n",
      "Event Name: Concert\n",
      "Event Date: 2023-12-01\n",
      "Venue: Arena\n",
      "Seat Number: A101\n",
      "Price: $50.0\n",
      "Reservation Status: Reserved\n",
      "Reservation for Ticket 1 canceled.\n",
      "Ticket ID: 1\n",
      "Event Name: Concert\n",
      "Event Date: 2023-12-01\n",
      "Venue: Arena\n",
      "Seat Number: A101\n",
      "Price: $50.0\n",
      "Reservation Status: Not Reserved\n"
     ]
    }
   ],
   "source": [
    "#Ans 8\n",
    "class Ticket:\n",
    "    def __init__(self, ticket_id, event_name, event_date, venue, seat_number, price):\n",
    "        self.ticket_id = ticket_id\n",
    "        self.event_name = event_name\n",
    "        self.event_date = event_date\n",
    "        self.venue = venue\n",
    "        self.seat_number = seat_number\n",
    "        self.price = price\n",
    "        self.is_reserved = False\n",
    "\n",
    "    def reserve_ticket(self):\n",
    "        if not self.is_reserved:\n",
    "            self.is_reserved = True\n",
    "            print(f\"Ticket {self.ticket_id} reserved successfully.\")\n",
    "        else:\n",
    "            print(\"Ticket is already reserved.\")\n",
    "\n",
    "    def cancel_reservation(self):\n",
    "        if self.is_reserved:\n",
    "            self.is_reserved = False\n",
    "            print(f\"Reservation for Ticket {self.ticket_id} canceled.\")\n",
    "        else:\n",
    "            print(\"Ticket is not reserved.\")\n",
    "\n",
    "    def display_ticket_info(self):\n",
    "        print(f\"Ticket ID: {self.ticket_id}\")\n",
    "        print(f\"Event Name: {self.event_name}\")\n",
    "        print(f\"Event Date: {self.event_date}\")\n",
    "        print(f\"Venue: {self.venue}\")\n",
    "        print(f\"Seat Number: {self.seat_number}\")\n",
    "        print(f\"Price: ${self.price}\")\n",
    "        print(f\"Reservation Status: {'Reserved' if self.is_reserved else 'Not Reserved'}\")\n",
    "\n",
    "# Example usage:\n",
    "ticket1 = Ticket(ticket_id=1, event_name=\"Concert\", event_date=\"2023-12-01\", venue=\"Arena\", seat_number=\"A101\", price=50.00)\n",
    "\n",
    "ticket1.display_ticket_info()\n",
    "\n",
    "# Reserve the ticket\n",
    "ticket1.reserve_ticket()\n",
    "\n",
    "# Display updated ticket information\n",
    "ticket1.display_ticket_info()\n",
    "\n",
    "# Cancel the reservation\n",
    "ticket1.cancel_reservation()\n",
    "\n",
    "# Display final ticket information\n",
    "ticket1.display_ticket_info()\n"
   ]
  },
  {
   "cell_type": "code",
   "execution_count": 18,
   "id": "f1eadb0a",
   "metadata": {},
   "outputs": [
    {
     "name": "stdout",
     "output_type": "stream",
     "text": [
      "Added Laptop to the shopping cart.\n",
      "Added Headphones to the shopping cart.\n",
      "Shopping Cart Contents:\n",
      "- Laptop\n",
      "- Headphones\n",
      "Removed Laptop from the shopping cart.\n",
      "Shopping Cart Contents:\n",
      "- Headphones\n",
      "The shopping cart has been emptied.\n",
      "The shopping cart is empty.\n"
     ]
    }
   ],
   "source": [
    "#Ans 9\n",
    "class ShoppingCart:\n",
    "    def __init__(self):\n",
    "        self.items = []\n",
    "\n",
    "    def add_item(self, item):\n",
    "        self.items.append(item)\n",
    "        print(f\"Added {item} to the shopping cart.\")\n",
    "\n",
    "    def remove_item(self, item):\n",
    "        if item in self.items:\n",
    "            self.items.remove(item)\n",
    "            print(f\"Removed {item} from the shopping cart.\")\n",
    "        else:\n",
    "            print(f\"{item} is not in the shopping cart.\")\n",
    "\n",
    "    def view_cart(self):\n",
    "        if not self.items:\n",
    "            print(\"The shopping cart is empty.\")\n",
    "        else:\n",
    "            print(\"Shopping Cart Contents:\")\n",
    "            for item in self.items:\n",
    "                print(f\"- {item}\")\n",
    "\n",
    "    def empty_cart(self):\n",
    "        self.items = []\n",
    "        print(\"The shopping cart has been emptied.\")\n",
    "\n",
    "# Example usage:\n",
    "cart = ShoppingCart()\n",
    "\n",
    "# Add items to the cart\n",
    "cart.add_item(\"Laptop\")\n",
    "cart.add_item(\"Headphones\")\n",
    "\n",
    "# View the contents of the cart\n",
    "cart.view_cart()\n",
    "\n",
    "# Remove an item from the cart\n",
    "cart.remove_item(\"Laptop\")\n",
    "\n",
    "# View the updated cart\n",
    "cart.view_cart()\n",
    "\n",
    "# Empty the cart\n",
    "cart.empty_cart()\n",
    "\n",
    "# View the emptied cart\n",
    "cart.view_cart()\n"
   ]
  },
  {
   "cell_type": "code",
   "execution_count": null,
   "id": "d09399ba",
   "metadata": {},
   "outputs": [],
   "source": []
  }
 ],
 "metadata": {
  "kernelspec": {
   "display_name": "Python 3 (ipykernel)",
   "language": "python",
   "name": "python3"
  },
  "language_info": {
   "codemirror_mode": {
    "name": "ipython",
    "version": 3
   },
   "file_extension": ".py",
   "mimetype": "text/x-python",
   "name": "python",
   "nbconvert_exporter": "python",
   "pygments_lexer": "ipython3",
   "version": "3.10.9"
  }
 },
 "nbformat": 4,
 "nbformat_minor": 5
}
